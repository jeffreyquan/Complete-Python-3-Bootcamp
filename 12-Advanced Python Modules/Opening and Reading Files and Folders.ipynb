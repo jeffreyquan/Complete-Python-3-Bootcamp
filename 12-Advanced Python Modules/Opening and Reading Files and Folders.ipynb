{
 "cells": [
  {
   "cell_type": "code",
   "execution_count": 1,
   "metadata": {},
   "outputs": [
    {
     "data": {
      "text/plain": [
       "'/Users/jeffreyquan/Projects/Complete-Python-3-Bootcamp/12-Advanced Python Modules'"
      ]
     },
     "execution_count": 1,
     "metadata": {},
     "output_type": "execute_result"
    }
   ],
   "source": [
    "pwd"
   ]
  },
  {
   "cell_type": "code",
   "execution_count": 2,
   "metadata": {},
   "outputs": [],
   "source": [
    "f = open(\"practice.txt\",\"w+\")\n",
    "f.write('This is a test string')\n",
    "f.close()"
   ]
  },
  {
   "cell_type": "code",
   "execution_count": 3,
   "metadata": {},
   "outputs": [],
   "source": [
    "import os"
   ]
  },
  {
   "cell_type": "code",
   "execution_count": 4,
   "metadata": {},
   "outputs": [
    {
     "data": {
      "text/plain": [
       "'/Users/jeffreyquan/Projects/Complete-Python-3-Bootcamp/12-Advanced Python Modules'"
      ]
     },
     "execution_count": 4,
     "metadata": {},
     "output_type": "execute_result"
    }
   ],
   "source": [
    "os.getcwd()"
   ]
  },
  {
   "cell_type": "code",
   "execution_count": 6,
   "metadata": {},
   "outputs": [
    {
     "data": {
      "text/plain": [
       "['jeffreyquan', '.localized', 'Shared']"
      ]
     },
     "execution_count": 6,
     "metadata": {},
     "output_type": "execute_result"
    }
   ],
   "source": [
    "os.listdir('/Users')"
   ]
  },
  {
   "cell_type": "code",
   "execution_count": 7,
   "metadata": {},
   "outputs": [],
   "source": [
    "import shutil"
   ]
  },
  {
   "cell_type": "code",
   "execution_count": 8,
   "metadata": {},
   "outputs": [
    {
     "data": {
      "text/plain": [
       "'/Users/jeffreyquan/practice.txt'"
      ]
     },
     "execution_count": 8,
     "metadata": {},
     "output_type": "execute_result"
    }
   ],
   "source": [
    "shutil.move('practice.txt','/Users/jeffreyquan')"
   ]
  },
  {
   "cell_type": "code",
   "execution_count": 10,
   "metadata": {},
   "outputs": [],
   "source": [
    "import send2trash"
   ]
  },
  {
   "cell_type": "code",
   "execution_count": 11,
   "metadata": {},
   "outputs": [
    {
     "data": {
      "text/plain": [
       "['Example_Top_Level',\n",
       " '08-Advanced-Python-Module-Exercise',\n",
       " 'Opening and Reading Files and Folders.ipynb',\n",
       " '00-Collections-Module.ipynb',\n",
       " '06-Timing your code - timeit.ipynb',\n",
       " '03-Math-and-Random-Module.ipynb',\n",
       " 'My Files',\n",
       " '02-Datetime-Module.ipynb',\n",
       " '05-Overview-of-Regular-Expressions.ipynb',\n",
       " '01-Opening-and-Reading-Files-Folders.ipynb',\n",
       " '.ipynb_checkpoints',\n",
       " '04-Python Debugger (pdb).ipynb',\n",
       " '07-Unzipping-and-Zipping-Files.ipynb']"
      ]
     },
     "execution_count": 11,
     "metadata": {},
     "output_type": "execute_result"
    }
   ],
   "source": [
    "os.listdir()"
   ]
  },
  {
   "cell_type": "code",
   "execution_count": 12,
   "metadata": {},
   "outputs": [
    {
     "data": {
      "text/plain": [
       "'/Users/jeffreyquan/Projects/Complete-Python-3-Bootcamp/12-Advanced Python Modules/practice.txt'"
      ]
     },
     "execution_count": 12,
     "metadata": {},
     "output_type": "execute_result"
    }
   ],
   "source": [
    "shutil.move('/Users/jeffreyquan/practice.txt', os.getcwd())"
   ]
  },
  {
   "cell_type": "code",
   "execution_count": 13,
   "metadata": {},
   "outputs": [
    {
     "data": {
      "text/plain": [
       "['Example_Top_Level',\n",
       " '08-Advanced-Python-Module-Exercise',\n",
       " 'practice.txt',\n",
       " 'Opening and Reading Files and Folders.ipynb',\n",
       " '00-Collections-Module.ipynb',\n",
       " '06-Timing your code - timeit.ipynb',\n",
       " '03-Math-and-Random-Module.ipynb',\n",
       " 'My Files',\n",
       " '02-Datetime-Module.ipynb',\n",
       " '05-Overview-of-Regular-Expressions.ipynb',\n",
       " '01-Opening-and-Reading-Files-Folders.ipynb',\n",
       " '.ipynb_checkpoints',\n",
       " '04-Python Debugger (pdb).ipynb',\n",
       " '07-Unzipping-and-Zipping-Files.ipynb']"
      ]
     },
     "execution_count": 13,
     "metadata": {},
     "output_type": "execute_result"
    }
   ],
   "source": [
    "os.listdir()"
   ]
  },
  {
   "cell_type": "code",
   "execution_count": 14,
   "metadata": {},
   "outputs": [],
   "source": [
    "send2trash.send2trash('practice.txt')"
   ]
  },
  {
   "cell_type": "code",
   "execution_count": 16,
   "metadata": {},
   "outputs": [
    {
     "data": {
      "text/plain": [
       "['Example_Top_Level',\n",
       " '08-Advanced-Python-Module-Exercise',\n",
       " 'Opening and Reading Files and Folders.ipynb',\n",
       " '00-Collections-Module.ipynb',\n",
       " '06-Timing your code - timeit.ipynb',\n",
       " '03-Math-and-Random-Module.ipynb',\n",
       " 'My Files',\n",
       " '02-Datetime-Module.ipynb',\n",
       " '05-Overview-of-Regular-Expressions.ipynb',\n",
       " '01-Opening-and-Reading-Files-Folders.ipynb',\n",
       " '.ipynb_checkpoints',\n",
       " '04-Python Debugger (pdb).ipynb',\n",
       " '07-Unzipping-and-Zipping-Files.ipynb']"
      ]
     },
     "execution_count": 16,
     "metadata": {},
     "output_type": "execute_result"
    }
   ],
   "source": [
    "os.listdir()"
   ]
  },
  {
   "cell_type": "code",
   "execution_count": 17,
   "metadata": {},
   "outputs": [
    {
     "data": {
      "text/plain": [
       "'/Users/jeffreyquan/Projects/Complete-Python-3-Bootcamp/12-Advanced Python Modules'"
      ]
     },
     "execution_count": 17,
     "metadata": {},
     "output_type": "execute_result"
    }
   ],
   "source": [
    "os.getcwd()"
   ]
  },
  {
   "cell_type": "code",
   "execution_count": 18,
   "metadata": {},
   "outputs": [],
   "source": [
    "file_path = '/Users/jeffreyquan/Projects/Complete-Python-3-Bootcamp/12-Advanced Python Modules/Example_Top_Level'"
   ]
  },
  {
   "cell_type": "code",
   "execution_count": 20,
   "metadata": {},
   "outputs": [
    {
     "name": "stdout",
     "output_type": "stream",
     "text": [
      "Currently looking at /Users/jeffreyquan/Projects/Complete-Python-3-Bootcamp/12-Advanced Python Modules/Example_Top_Level\n",
      "\n",
      "\n",
      "The subfolders are: \n",
      "\t Subfolder: Mid-Example-One\n",
      "\n",
      "\n",
      "The files are: \n",
      "\t File: Mid-Example.txt\n",
      "\n",
      "\n",
      "Currently looking at /Users/jeffreyquan/Projects/Complete-Python-3-Bootcamp/12-Advanced Python Modules/Example_Top_Level/Mid-Example-One\n",
      "\n",
      "\n",
      "The subfolders are: \n",
      "\t Subfolder: Bottom-Level-Two\n",
      "\t Subfolder: Bottom-Level-One\n",
      "\n",
      "\n",
      "The files are: \n",
      "\t File: Mid-Level-Doc.txt\n",
      "\n",
      "\n",
      "Currently looking at /Users/jeffreyquan/Projects/Complete-Python-3-Bootcamp/12-Advanced Python Modules/Example_Top_Level/Mid-Example-One/Bottom-Level-Two\n",
      "\n",
      "\n",
      "The subfolders are: \n",
      "\n",
      "\n",
      "The files are: \n",
      "\t File: Bottom-Text-Two.txt\n",
      "\n",
      "\n",
      "Currently looking at /Users/jeffreyquan/Projects/Complete-Python-3-Bootcamp/12-Advanced Python Modules/Example_Top_Level/Mid-Example-One/Bottom-Level-One\n",
      "\n",
      "\n",
      "The subfolders are: \n",
      "\n",
      "\n",
      "The files are: \n",
      "\t File: One_Text.txt\n",
      "\n",
      "\n"
     ]
    }
   ],
   "source": [
    "for folder,sub_folders,files in os.walk(file_path):\n",
    "    print(f'Currently looking at {folder}')\n",
    "    print('\\n')\n",
    "    print('The subfolders are: ')\n",
    "    for sub_folder in sub_folders:\n",
    "        print(f'\\t Subfolder: {sub_folder}')\n",
    "        \n",
    "    print('\\n')\n",
    "    print('The files are: ')\n",
    "    for f in files:\n",
    "        print(f'\\t File: {f}')\n",
    "    print('\\n')"
   ]
  },
  {
   "cell_type": "code",
   "execution_count": null,
   "metadata": {},
   "outputs": [],
   "source": []
  }
 ],
 "metadata": {
  "kernelspec": {
   "display_name": "Python 3",
   "language": "python",
   "name": "python3"
  },
  "language_info": {
   "codemirror_mode": {
    "name": "ipython",
    "version": 3
   },
   "file_extension": ".py",
   "mimetype": "text/x-python",
   "name": "python",
   "nbconvert_exporter": "python",
   "pygments_lexer": "ipython3",
   "version": "3.7.6"
  }
 },
 "nbformat": 4,
 "nbformat_minor": 4
}
